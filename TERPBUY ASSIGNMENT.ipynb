{
 "cells": [
  {
   "cell_type": "markdown",
   "id": "009ba017",
   "metadata": {},
   "source": [
    "# TERPBUY ASSIGNMENT"
   ]
  },
  {
   "cell_type": "code",
   "execution_count": 1,
   "id": "7737ddd4",
   "metadata": {},
   "outputs": [
    {
     "name": "stdout",
     "output_type": "stream",
     "text": [
      "Requirement already satisfied: mysql-connector-python in ./opt/anaconda3/lib/python3.9/site-packages (8.0.28)\r\n",
      "Requirement already satisfied: protobuf>=3.0.0 in ./opt/anaconda3/lib/python3.9/site-packages (from mysql-connector-python) (3.19.4)\r\n"
     ]
    }
   ],
   "source": [
    "# Installing SQL connector\n",
    "!pip install mysql-connector-python"
   ]
  },
  {
   "cell_type": "code",
   "execution_count": 2,
   "id": "0ec5e36c",
   "metadata": {},
   "outputs": [],
   "source": [
    "#importing mysql connector, pandas, and numpy\n",
    "\n",
    "import mysql.connector\n",
    "import pandas as pd\n",
    "import numpy as np"
   ]
  },
  {
   "cell_type": "code",
   "execution_count": 3,
   "id": "04263c13",
   "metadata": {},
   "outputs": [],
   "source": [
    "#connecting the database from MySQL\n",
    "conn = mysql.connector.connect(host='127.0.0.1', database='terpbuy', user='root', password='******')"
   ]
  },
  {
   "cell_type": "markdown",
   "id": "619c7fcd",
   "metadata": {},
   "source": [
    "### Task 1: Write a query to show the quantity of items sold by each department. Sort the results by department name."
   ]
  },
  {
   "cell_type": "code",
   "execution_count": 80,
   "id": "e3b8f196",
   "metadata": {},
   "outputs": [
    {
     "data": {
      "text/html": [
       "<div>\n",
       "<style scoped>\n",
       "    .dataframe tbody tr th:only-of-type {\n",
       "        vertical-align: middle;\n",
       "    }\n",
       "\n",
       "    .dataframe tbody tr th {\n",
       "        vertical-align: top;\n",
       "    }\n",
       "\n",
       "    .dataframe thead th {\n",
       "        text-align: right;\n",
       "    }\n",
       "</style>\n",
       "<table border=\"1\" class=\"dataframe\">\n",
       "  <thead>\n",
       "    <tr style=\"text-align: right;\">\n",
       "      <th></th>\n",
       "      <th>Department</th>\n",
       "      <th>Quantity_Sold</th>\n",
       "    </tr>\n",
       "  </thead>\n",
       "  <tbody>\n",
       "    <tr>\n",
       "      <th>0</th>\n",
       "      <td>Apparel</td>\n",
       "      <td>2336.0</td>\n",
       "    </tr>\n",
       "    <tr>\n",
       "      <th>1</th>\n",
       "      <td>Book Shop</td>\n",
       "      <td>12.0</td>\n",
       "    </tr>\n",
       "    <tr>\n",
       "      <th>2</th>\n",
       "      <td>Discs Shop</td>\n",
       "      <td>285.0</td>\n",
       "    </tr>\n",
       "    <tr>\n",
       "      <th>3</th>\n",
       "      <td>Fan Shop</td>\n",
       "      <td>2406.0</td>\n",
       "    </tr>\n",
       "    <tr>\n",
       "      <th>4</th>\n",
       "      <td>Fitness</td>\n",
       "      <td>244.0</td>\n",
       "    </tr>\n",
       "    <tr>\n",
       "      <th>5</th>\n",
       "      <td>Footwear</td>\n",
       "      <td>932.0</td>\n",
       "    </tr>\n",
       "    <tr>\n",
       "      <th>6</th>\n",
       "      <td>Golf</td>\n",
       "      <td>2355.0</td>\n",
       "    </tr>\n",
       "    <tr>\n",
       "      <th>7</th>\n",
       "      <td>Health and Beauty</td>\n",
       "      <td>64.0</td>\n",
       "    </tr>\n",
       "    <tr>\n",
       "      <th>8</th>\n",
       "      <td>Outdoors</td>\n",
       "      <td>812.0</td>\n",
       "    </tr>\n",
       "    <tr>\n",
       "      <th>9</th>\n",
       "      <td>Pet Shop</td>\n",
       "      <td>54.0</td>\n",
       "    </tr>\n",
       "    <tr>\n",
       "      <th>10</th>\n",
       "      <td>Technology</td>\n",
       "      <td>39.0</td>\n",
       "    </tr>\n",
       "  </tbody>\n",
       "</table>\n",
       "</div>"
      ],
      "text/plain": [
       "            Department  Quantity_Sold\n",
       "0              Apparel         2336.0\n",
       "1            Book Shop           12.0\n",
       "2           Discs Shop          285.0\n",
       "3             Fan Shop         2406.0\n",
       "4              Fitness          244.0\n",
       "5             Footwear          932.0\n",
       "6                 Golf         2355.0\n",
       "7   Health and Beauty            64.0\n",
       "8             Outdoors          812.0\n",
       "9             Pet Shop           54.0\n",
       "10          Technology           39.0"
      ]
     },
     "execution_count": 80,
     "metadata": {},
     "output_type": "execute_result"
    }
   ],
   "source": [
    "#writing SQL query to show quantity sold by each department and sorting them by department\n",
    "department_sales = pd.read_sql(\"\"\"SELECT d.department_name as Department, sum(ol.quantity_sold) AS Quantity_Sold\n",
    "                            FROM order_line ol\n",
    "                            INNER JOIN product p ON p.product_id = ol.product_id\n",
    "                            INNER JOIN department d ON d.department_id = p.department_id\n",
    "                            GROUP BY d.department_name\n",
    "                            ORDER BY d.department_name\"\"\", conn)\n",
    "department_sales"
   ]
  },
  {
   "cell_type": "markdown",
   "id": "b4a6425a",
   "metadata": {},
   "source": [
    "### Task 2: Using the query you wrote in Question 1, create a data visualization (e.g., a bar chart) showing all departments and the number of items each of them sold. Using a markdown cell, explain what you observe from the analysis."
   ]
  },
  {
   "cell_type": "code",
   "execution_count": 124,
   "id": "f45b4cc5",
   "metadata": {},
   "outputs": [
    {
     "data": {
      "image/png": "[encoded data removed]",
      "text/plain": [
       "<Figure size 720x432 with 1 Axes>"
      ]
     },
     "metadata": {
      "needs_background": "light"
     },
     "output_type": "display_data"
    },
    {
     "name": "stdout",
     "output_type": "stream",
     "text": [
      "None\n"
     ]
    }
   ],
   "source": [
    "#importing matplotlib.pyplot to create a data visualization graphs\n",
    "import matplotlib.pyplot as plt\n",
    "\n",
    "#creating data visualization that shows all departments and the number of items sold by them\n",
    "department_sales.plot(kind = 'bar', x=\"Department\", y = 'Quantity_Sold', figsize = (10, 6))\n",
    "plt.title('Sales Analysis Based on Departments')\n",
    "plt.xlabel('Department Category')\n",
    "plt.ylabel('Quantity Sold')\n",
    "print(plt.show())"
   ]
  },
  {
   "cell_type": "markdown",
   "id": "dd4154e2",
   "metadata": {},
   "source": [
    "#### Based on data visualization of department's sales, Terpbuy is selling more items in 'Apparrel, Fan Shop, and Golf' categories. The sales in 'Book Shop, Technology, Pet Shop and Health & Beauty' categories are very low.   "
   ]
  },
  {
   "cell_type": "markdown",
   "id": "14732055",
   "metadata": {},
   "source": [
    "---------------------------------\n",
    "### Task 3: Write a query to show the number of orders placed in each year in which at least one order was placed."
   ]
  },
  {
   "cell_type": "code",
   "execution_count": 137,
   "id": "3f208c92",
   "metadata": {},
   "outputs": [
    {
     "name": "stdout",
     "output_type": "stream",
     "text": [
      "The number of orders placed in each year are as follow:\n",
      "   Year  total_orders\n",
      "0  2018           585\n",
      "1  2019           708\n",
      "2  2020           497\n",
      "3  2021           362\n"
     ]
    }
   ],
   "source": [
    "#writing a query to show total number of orders placed in each year\n",
    "\n",
    "year_df = pd.read_sql('SELECT YEAR(order_date) as Year, count(order_id) as total_orders \\\n",
    "                      FROM orders GROUP BY YEAR \\\n",
    "                      HAVING count(order_id) > 0;', conn)\n",
    "print(f'The number of orders placed in each year are as follow:')\n",
    "print(year_df)"
   ]
  },
  {
   "cell_type": "markdown",
   "id": "8620ff18",
   "metadata": {},
   "source": [
    "### Task 4: Using the query you wrote in Question 3, create a data visualization (e.g., a line graph) showing all years and the number of orders placed during each year, to see if there is a trend in ordering. Using a markdown cell, explain what you observe from the analysis."
   ]
  },
  {
   "cell_type": "code",
   "execution_count": 141,
   "id": "4ba47d2e",
   "metadata": {},
   "outputs": [
    {
     "data": {
      "image/png": "[encoded data removed]",
      "text/plain": [
       "<Figure size 720x432 with 1 Axes>"
      ]
     },
     "metadata": {
      "needs_background": "light"
     },
     "output_type": "display_data"
    }
   ],
   "source": [
    "#creating a line graph to visualize the sales in each year\n",
    "\n",
    "year_df.plot(kind = 'line', x = 'Year', y = 'total_orders', figsize =(10,6))\n",
    "plt.title('Line Graph Showing Total Sales in Years')\n",
    "plt.xlabel('Year')\n",
    "plt.ylabel('Total Orders')\n",
    "plt.show()"
   ]
  },
  {
   "cell_type": "markdown",
   "id": "b1060c0d",
   "metadata": {},
   "source": [
    "#### Based on above observation, we can analyze that the sales are decreasing since past 2 years. The sales were highest in 2019. "
   ]
  },
  {
   "cell_type": "code",
   "execution_count": null,
   "id": "710d90f1",
   "metadata": {},
   "outputs": [],
   "source": []
  }
 ],
 "metadata": {
  "kernelspec": {
   "display_name": "Python 3 (ipykernel)",
   "language": "python",
   "name": "python3"
  },
  "language_info": {
   "codemirror_mode": {
    "name": "ipython",
    "version": 3
   },
   "file_extension": ".py",
   "mimetype": "text/x-python",
   "name": "python",
   "nbconvert_exporter": "python",
   "pygments_lexer": "ipython3",
   "version": "3.9.7"
  }
 },
 "nbformat": 4,
 "nbformat_minor": 5
}
